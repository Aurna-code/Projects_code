{
 "cells": [
  {
   "cell_type": "code",
   "execution_count": 2,
   "id": "7d815d71-5ab2-41bc-a158-1ee40947ee16",
   "metadata": {},
   "outputs": [],
   "source": [
    "import pandas as pd\n",
    "import numpy as np\n",
    "import matplotlib.pyplot as plt"
   ]
  },
  {
   "cell_type": "code",
   "execution_count": 3,
   "id": "fb957210-9d90-4f1e-9c34-4acda482c490",
   "metadata": {},
   "outputs": [],
   "source": [
    "tr = pd.read_csv('data/trlatest.csv', encoding='utf-8')"
   ]
  },
  {
   "cell_type": "code",
   "execution_count": 4,
   "id": "a28045e2-5426-4ca9-9530-db65415124cc",
   "metadata": {},
   "outputs": [
    {
     "data": {
      "text/html": [
       "<div>\n",
       "<style scoped>\n",
       "    .dataframe tbody tr th:only-of-type {\n",
       "        vertical-align: middle;\n",
       "    }\n",
       "\n",
       "    .dataframe tbody tr th {\n",
       "        vertical-align: top;\n",
       "    }\n",
       "\n",
       "    .dataframe thead th {\n",
       "        text-align: right;\n",
       "    }\n",
       "</style>\n",
       "<table border=\"1\" class=\"dataframe\">\n",
       "  <thead>\n",
       "    <tr style=\"text-align: right;\">\n",
       "      <th></th>\n",
       "      <th>아파트/계</th>\n",
       "      <th>다세대주택/계</th>\n",
       "      <th>연립주택/계</th>\n",
       "      <th>비거주건물내주택/계</th>\n",
       "      <th>단독주택/계</th>\n",
       "      <th>20~30대 1인가구/전체가구</th>\n",
       "      <th>쓰레기 비용 주민부담률</th>\n",
       "      <th>자치구 청소예산 재정자립도</th>\n",
       "      <th>1인가구수</th>\n",
       "      <th>주민수</th>\n",
       "      <th>생활폐기물 재활용율</th>\n",
       "    </tr>\n",
       "  </thead>\n",
       "  <tbody>\n",
       "    <tr>\n",
       "      <th>0</th>\n",
       "      <td>0.335</td>\n",
       "      <td>0.117</td>\n",
       "      <td>0.268</td>\n",
       "      <td>0.019</td>\n",
       "      <td>0.262</td>\n",
       "      <td>0.195</td>\n",
       "      <td>0.675</td>\n",
       "      <td>0.563</td>\n",
       "      <td>12346</td>\n",
       "      <td>63414</td>\n",
       "      <td>0.508578</td>\n",
       "    </tr>\n",
       "    <tr>\n",
       "      <th>1</th>\n",
       "      <td>0.618</td>\n",
       "      <td>0.046</td>\n",
       "      <td>0.174</td>\n",
       "      <td>0.021</td>\n",
       "      <td>0.141</td>\n",
       "      <td>0.184</td>\n",
       "      <td>0.661</td>\n",
       "      <td>0.475</td>\n",
       "      <td>10155</td>\n",
       "      <td>55093</td>\n",
       "      <td>0.418840</td>\n",
       "    </tr>\n",
       "    <tr>\n",
       "      <th>2</th>\n",
       "      <td>0.505</td>\n",
       "      <td>0.053</td>\n",
       "      <td>0.243</td>\n",
       "      <td>0.010</td>\n",
       "      <td>0.189</td>\n",
       "      <td>0.188</td>\n",
       "      <td>0.675</td>\n",
       "      <td>0.525</td>\n",
       "      <td>17969</td>\n",
       "      <td>95714</td>\n",
       "      <td>0.545222</td>\n",
       "    </tr>\n",
       "    <tr>\n",
       "      <th>3</th>\n",
       "      <td>0.740</td>\n",
       "      <td>0.022</td>\n",
       "      <td>0.111</td>\n",
       "      <td>0.012</td>\n",
       "      <td>0.115</td>\n",
       "      <td>0.169</td>\n",
       "      <td>0.661</td>\n",
       "      <td>0.738</td>\n",
       "      <td>20619</td>\n",
       "      <td>122186</td>\n",
       "      <td>0.598687</td>\n",
       "    </tr>\n",
       "    <tr>\n",
       "      <th>4</th>\n",
       "      <td>0.358</td>\n",
       "      <td>0.045</td>\n",
       "      <td>0.410</td>\n",
       "      <td>0.016</td>\n",
       "      <td>0.171</td>\n",
       "      <td>0.232</td>\n",
       "      <td>0.595</td>\n",
       "      <td>0.519</td>\n",
       "      <td>35215</td>\n",
       "      <td>152090</td>\n",
       "      <td>0.662907</td>\n",
       "    </tr>\n",
       "  </tbody>\n",
       "</table>\n",
       "</div>"
      ],
      "text/plain": [
       "   아파트/계  다세대주택/계  연립주택/계  비거주건물내주택/계  단독주택/계  20~30대 1인가구/전체가구  쓰레기 비용 주민부담률  \\\n",
       "0  0.335    0.117   0.268       0.019   0.262             0.195         0.675   \n",
       "1  0.618    0.046   0.174       0.021   0.141             0.184         0.661   \n",
       "2  0.505    0.053   0.243       0.010   0.189             0.188         0.675   \n",
       "3  0.740    0.022   0.111       0.012   0.115             0.169         0.661   \n",
       "4  0.358    0.045   0.410       0.016   0.171             0.232         0.595   \n",
       "\n",
       "   자치구 청소예산 재정자립도  1인가구수     주민수  생활폐기물 재활용율  \n",
       "0           0.563  12346   63414    0.508578  \n",
       "1           0.475  10155   55093    0.418840  \n",
       "2           0.525  17969   95714    0.545222  \n",
       "3           0.738  20619  122186    0.598687  \n",
       "4           0.519  35215  152090    0.662907  "
      ]
     },
     "execution_count": 4,
     "metadata": {},
     "output_type": "execute_result"
    }
   ],
   "source": [
    "tr.head()"
   ]
  },
  {
   "cell_type": "code",
   "execution_count": 5,
   "id": "085b7da6-aaee-431c-9471-f8d569d0d1d4",
   "metadata": {},
   "outputs": [
    {
     "data": {
      "text/html": [
       "<div>\n",
       "<style scoped>\n",
       "    .dataframe tbody tr th:only-of-type {\n",
       "        vertical-align: middle;\n",
       "    }\n",
       "\n",
       "    .dataframe tbody tr th {\n",
       "        vertical-align: top;\n",
       "    }\n",
       "\n",
       "    .dataframe thead th {\n",
       "        text-align: right;\n",
       "    }\n",
       "</style>\n",
       "<table border=\"1\" class=\"dataframe\">\n",
       "  <thead>\n",
       "    <tr style=\"text-align: right;\">\n",
       "      <th></th>\n",
       "      <th>아파트/계</th>\n",
       "      <th>다세대주택/계</th>\n",
       "      <th>연립주택/계</th>\n",
       "      <th>비거주건물내주택/계</th>\n",
       "      <th>단독주택/계</th>\n",
       "      <th>20~30대 1인가구/전체가구</th>\n",
       "      <th>쓰레기 비용 주민부담률</th>\n",
       "      <th>자치구 청소예산 재정자립도</th>\n",
       "      <th>1인가구수</th>\n",
       "      <th>주민수</th>\n",
       "      <th>생활폐기물 재활용율</th>\n",
       "    </tr>\n",
       "  </thead>\n",
       "  <tbody>\n",
       "    <tr>\n",
       "      <th>아파트/계</th>\n",
       "      <td>1.000000</td>\n",
       "      <td>-0.645345</td>\n",
       "      <td>-0.820886</td>\n",
       "      <td>-0.404088</td>\n",
       "      <td>-0.691838</td>\n",
       "      <td>-0.305234</td>\n",
       "      <td>0.195342</td>\n",
       "      <td>0.113020</td>\n",
       "      <td>-0.111187</td>\n",
       "      <td>0.226544</td>\n",
       "      <td>-0.448798</td>\n",
       "    </tr>\n",
       "    <tr>\n",
       "      <th>다세대주택/계</th>\n",
       "      <td>-0.645345</td>\n",
       "      <td>1.000000</td>\n",
       "      <td>0.247497</td>\n",
       "      <td>0.438464</td>\n",
       "      <td>0.683242</td>\n",
       "      <td>0.216180</td>\n",
       "      <td>-0.088383</td>\n",
       "      <td>-0.204355</td>\n",
       "      <td>-0.160561</td>\n",
       "      <td>-0.539215</td>\n",
       "      <td>0.030197</td>\n",
       "    </tr>\n",
       "    <tr>\n",
       "      <th>연립주택/계</th>\n",
       "      <td>-0.820886</td>\n",
       "      <td>0.247497</td>\n",
       "      <td>1.000000</td>\n",
       "      <td>-0.017843</td>\n",
       "      <td>0.170169</td>\n",
       "      <td>0.074442</td>\n",
       "      <td>-0.307051</td>\n",
       "      <td>0.087347</td>\n",
       "      <td>0.181905</td>\n",
       "      <td>0.167126</td>\n",
       "      <td>0.347886</td>\n",
       "    </tr>\n",
       "    <tr>\n",
       "      <th>비거주건물내주택/계</th>\n",
       "      <td>-0.404088</td>\n",
       "      <td>0.438464</td>\n",
       "      <td>-0.017843</td>\n",
       "      <td>1.000000</td>\n",
       "      <td>0.715416</td>\n",
       "      <td>0.545200</td>\n",
       "      <td>0.351225</td>\n",
       "      <td>-0.177572</td>\n",
       "      <td>0.102159</td>\n",
       "      <td>-0.490350</td>\n",
       "      <td>0.226350</td>\n",
       "    </tr>\n",
       "    <tr>\n",
       "      <th>단독주택/계</th>\n",
       "      <td>-0.691838</td>\n",
       "      <td>0.683242</td>\n",
       "      <td>0.170169</td>\n",
       "      <td>0.715416</td>\n",
       "      <td>1.000000</td>\n",
       "      <td>0.454533</td>\n",
       "      <td>0.052466</td>\n",
       "      <td>-0.310707</td>\n",
       "      <td>0.006727</td>\n",
       "      <td>-0.558157</td>\n",
       "      <td>0.430681</td>\n",
       "    </tr>\n",
       "    <tr>\n",
       "      <th>20~30대 1인가구/전체가구</th>\n",
       "      <td>-0.305234</td>\n",
       "      <td>0.216180</td>\n",
       "      <td>0.074442</td>\n",
       "      <td>0.545200</td>\n",
       "      <td>0.454533</td>\n",
       "      <td>1.000000</td>\n",
       "      <td>0.011139</td>\n",
       "      <td>-0.054903</td>\n",
       "      <td>0.766448</td>\n",
       "      <td>0.053942</td>\n",
       "      <td>0.316177</td>\n",
       "    </tr>\n",
       "    <tr>\n",
       "      <th>쓰레기 비용 주민부담률</th>\n",
       "      <td>0.195342</td>\n",
       "      <td>-0.088383</td>\n",
       "      <td>-0.307051</td>\n",
       "      <td>0.351225</td>\n",
       "      <td>0.052466</td>\n",
       "      <td>0.011139</td>\n",
       "      <td>1.000000</td>\n",
       "      <td>0.360726</td>\n",
       "      <td>-0.061533</td>\n",
       "      <td>-0.064955</td>\n",
       "      <td>0.041060</td>\n",
       "    </tr>\n",
       "    <tr>\n",
       "      <th>자치구 청소예산 재정자립도</th>\n",
       "      <td>0.113020</td>\n",
       "      <td>-0.204355</td>\n",
       "      <td>0.087347</td>\n",
       "      <td>-0.177572</td>\n",
       "      <td>-0.310707</td>\n",
       "      <td>-0.054903</td>\n",
       "      <td>0.360726</td>\n",
       "      <td>1.000000</td>\n",
       "      <td>0.024041</td>\n",
       "      <td>0.194450</td>\n",
       "      <td>-0.003500</td>\n",
       "    </tr>\n",
       "    <tr>\n",
       "      <th>1인가구수</th>\n",
       "      <td>-0.111187</td>\n",
       "      <td>-0.160561</td>\n",
       "      <td>0.181905</td>\n",
       "      <td>0.102159</td>\n",
       "      <td>0.006727</td>\n",
       "      <td>0.766448</td>\n",
       "      <td>-0.061533</td>\n",
       "      <td>0.024041</td>\n",
       "      <td>1.000000</td>\n",
       "      <td>0.658394</td>\n",
       "      <td>0.339483</td>\n",
       "    </tr>\n",
       "    <tr>\n",
       "      <th>주민수</th>\n",
       "      <td>0.226544</td>\n",
       "      <td>-0.539215</td>\n",
       "      <td>0.167126</td>\n",
       "      <td>-0.490350</td>\n",
       "      <td>-0.558157</td>\n",
       "      <td>0.053942</td>\n",
       "      <td>-0.064955</td>\n",
       "      <td>0.194450</td>\n",
       "      <td>0.658394</td>\n",
       "      <td>1.000000</td>\n",
       "      <td>0.135674</td>\n",
       "    </tr>\n",
       "    <tr>\n",
       "      <th>생활폐기물 재활용율</th>\n",
       "      <td>-0.448798</td>\n",
       "      <td>0.030197</td>\n",
       "      <td>0.347886</td>\n",
       "      <td>0.226350</td>\n",
       "      <td>0.430681</td>\n",
       "      <td>0.316177</td>\n",
       "      <td>0.041060</td>\n",
       "      <td>-0.003500</td>\n",
       "      <td>0.339483</td>\n",
       "      <td>0.135674</td>\n",
       "      <td>1.000000</td>\n",
       "    </tr>\n",
       "  </tbody>\n",
       "</table>\n",
       "</div>"
      ],
      "text/plain": [
       "                     아파트/계   다세대주택/계    연립주택/계  비거주건물내주택/계    단독주택/계  \\\n",
       "아파트/계             1.000000 -0.645345 -0.820886   -0.404088 -0.691838   \n",
       "다세대주택/계          -0.645345  1.000000  0.247497    0.438464  0.683242   \n",
       "연립주택/계           -0.820886  0.247497  1.000000   -0.017843  0.170169   \n",
       "비거주건물내주택/계       -0.404088  0.438464 -0.017843    1.000000  0.715416   \n",
       "단독주택/계           -0.691838  0.683242  0.170169    0.715416  1.000000   \n",
       "20~30대 1인가구/전체가구 -0.305234  0.216180  0.074442    0.545200  0.454533   \n",
       "쓰레기 비용 주민부담률      0.195342 -0.088383 -0.307051    0.351225  0.052466   \n",
       "자치구 청소예산 재정자립도    0.113020 -0.204355  0.087347   -0.177572 -0.310707   \n",
       "1인가구수            -0.111187 -0.160561  0.181905    0.102159  0.006727   \n",
       "주민수               0.226544 -0.539215  0.167126   -0.490350 -0.558157   \n",
       "생활폐기물 재활용율       -0.448798  0.030197  0.347886    0.226350  0.430681   \n",
       "\n",
       "                  20~30대 1인가구/전체가구  쓰레기 비용 주민부담률  자치구 청소예산 재정자립도     1인가구수  \\\n",
       "아파트/계                    -0.305234      0.195342        0.113020 -0.111187   \n",
       "다세대주택/계                   0.216180     -0.088383       -0.204355 -0.160561   \n",
       "연립주택/계                    0.074442     -0.307051        0.087347  0.181905   \n",
       "비거주건물내주택/계                0.545200      0.351225       -0.177572  0.102159   \n",
       "단독주택/계                    0.454533      0.052466       -0.310707  0.006727   \n",
       "20~30대 1인가구/전체가구          1.000000      0.011139       -0.054903  0.766448   \n",
       "쓰레기 비용 주민부담률              0.011139      1.000000        0.360726 -0.061533   \n",
       "자치구 청소예산 재정자립도           -0.054903      0.360726        1.000000  0.024041   \n",
       "1인가구수                     0.766448     -0.061533        0.024041  1.000000   \n",
       "주민수                       0.053942     -0.064955        0.194450  0.658394   \n",
       "생활폐기물 재활용율                0.316177      0.041060       -0.003500  0.339483   \n",
       "\n",
       "                       주민수  생활폐기물 재활용율  \n",
       "아파트/계             0.226544   -0.448798  \n",
       "다세대주택/계          -0.539215    0.030197  \n",
       "연립주택/계            0.167126    0.347886  \n",
       "비거주건물내주택/계       -0.490350    0.226350  \n",
       "단독주택/계           -0.558157    0.430681  \n",
       "20~30대 1인가구/전체가구  0.053942    0.316177  \n",
       "쓰레기 비용 주민부담률     -0.064955    0.041060  \n",
       "자치구 청소예산 재정자립도    0.194450   -0.003500  \n",
       "1인가구수             0.658394    0.339483  \n",
       "주민수               1.000000    0.135674  \n",
       "생활폐기물 재활용율        0.135674    1.000000  "
      ]
     },
     "execution_count": 5,
     "metadata": {},
     "output_type": "execute_result"
    }
   ],
   "source": [
    "tr.corr()"
   ]
  },
  {
   "cell_type": "code",
   "execution_count": null,
   "id": "fc19c4e0-96e8-4f80-9408-bece56a706a8",
   "metadata": {},
   "outputs": [],
   "source": []
  },
  {
   "cell_type": "code",
   "execution_count": 15,
   "id": "92802803-a27f-4286-aadd-c47b8d52a96b",
   "metadata": {},
   "outputs": [],
   "source": [
    "from sklearn.model_selection import train_test_split\n",
    "from sklearn.linear_model import LinearRegression\n",
    "from sklearn.metrics import r2_score\n",
    "from sklearn.metrics import mean_squared_error"
   ]
  },
  {
   "cell_type": "code",
   "execution_count": 7,
   "id": "e4733dc4-8ea7-4614-8fd4-32df7fc70603",
   "metadata": {},
   "outputs": [],
   "source": [
    "age = pd.read_csv('data/2019age.csv')"
   ]
  },
  {
   "cell_type": "code",
   "execution_count": 10,
   "id": "2a1e2147-1546-4a5b-9c1b-74ae1a5e2ffd",
   "metadata": {},
   "outputs": [
    {
     "data": {
      "text/html": [
       "<div>\n",
       "<style scoped>\n",
       "    .dataframe tbody tr th:only-of-type {\n",
       "        vertical-align: middle;\n",
       "    }\n",
       "\n",
       "    .dataframe tbody tr th {\n",
       "        vertical-align: top;\n",
       "    }\n",
       "\n",
       "    .dataframe thead th {\n",
       "        text-align: right;\n",
       "    }\n",
       "</style>\n",
       "<table border=\"1\" class=\"dataframe\">\n",
       "  <thead>\n",
       "    <tr style=\"text-align: right;\">\n",
       "      <th></th>\n",
       "      <th>20</th>\n",
       "      <th>30</th>\n",
       "      <th>40</th>\n",
       "      <th>50</th>\n",
       "      <th>60</th>\n",
       "      <th>70</th>\n",
       "      <th>80</th>\n",
       "      <th>re</th>\n",
       "    </tr>\n",
       "  </thead>\n",
       "  <tbody>\n",
       "    <tr>\n",
       "      <th>0</th>\n",
       "      <td>7442</td>\n",
       "      <td>4904</td>\n",
       "      <td>3259</td>\n",
       "      <td>3356</td>\n",
       "      <td>3064</td>\n",
       "      <td>2264</td>\n",
       "      <td>1296</td>\n",
       "      <td>0.508578</td>\n",
       "    </tr>\n",
       "    <tr>\n",
       "      <th>1</th>\n",
       "      <td>5482</td>\n",
       "      <td>4673</td>\n",
       "      <td>2993</td>\n",
       "      <td>3080</td>\n",
       "      <td>3001</td>\n",
       "      <td>2016</td>\n",
       "      <td>1138</td>\n",
       "      <td>0.418840</td>\n",
       "    </tr>\n",
       "    <tr>\n",
       "      <th>2</th>\n",
       "      <td>8309</td>\n",
       "      <td>9660</td>\n",
       "      <td>5532</td>\n",
       "      <td>4374</td>\n",
       "      <td>3877</td>\n",
       "      <td>2784</td>\n",
       "      <td>1888</td>\n",
       "      <td>0.545222</td>\n",
       "    </tr>\n",
       "    <tr>\n",
       "      <th>3</th>\n",
       "      <td>11902</td>\n",
       "      <td>8717</td>\n",
       "      <td>5654</td>\n",
       "      <td>5348</td>\n",
       "      <td>5020</td>\n",
       "      <td>3348</td>\n",
       "      <td>1843</td>\n",
       "      <td>0.598687</td>\n",
       "    </tr>\n",
       "    <tr>\n",
       "      <th>4</th>\n",
       "      <td>20532</td>\n",
       "      <td>14683</td>\n",
       "      <td>7568</td>\n",
       "      <td>7110</td>\n",
       "      <td>6296</td>\n",
       "      <td>3768</td>\n",
       "      <td>1782</td>\n",
       "      <td>0.662907</td>\n",
       "    </tr>\n",
       "  </tbody>\n",
       "</table>\n",
       "</div>"
      ],
      "text/plain": [
       "      20     30    40    50    60    70    80        re\n",
       "0   7442   4904  3259  3356  3064  2264  1296  0.508578\n",
       "1   5482   4673  2993  3080  3001  2016  1138  0.418840\n",
       "2   8309   9660  5532  4374  3877  2784  1888  0.545222\n",
       "3  11902   8717  5654  5348  5020  3348  1843  0.598687\n",
       "4  20532  14683  7568  7110  6296  3768  1782  0.662907"
      ]
     },
     "execution_count": 10,
     "metadata": {},
     "output_type": "execute_result"
    }
   ],
   "source": [
    "age.head()"
   ]
  },
  {
   "cell_type": "code",
   "execution_count": 11,
   "id": "dee875be-5da2-43fc-b4e5-b7120885563c",
   "metadata": {},
   "outputs": [],
   "source": [
    "data = age.iloc[:, :7]\n",
    "target = age.iloc[:, 7]"
   ]
  },
  {
   "cell_type": "code",
   "execution_count": 16,
   "id": "0be0888a-7a59-46bd-8157-9656c808f603",
   "metadata": {},
   "outputs": [],
   "source": [
    "Xtrain, Xtest, ytrain, ytest = train_test_split(data, target, train_size=0.7, test_size=0.3, random_state=2111081305)"
   ]
  },
  {
   "cell_type": "code",
   "execution_count": 17,
   "id": "738eed49-b343-4710-b3e9-10863da34f30",
   "metadata": {},
   "outputs": [],
   "source": [
    "lrclf = LinearRegression()\n",
    "lrclf.fit(Xtrain, ytrain)\n",
    "pred = lrclf.predict(Xtest)"
   ]
  },
  {
   "cell_type": "code",
   "execution_count": 18,
   "id": "e2e57ef1-8ac3-4f3c-a43e-c83ac3b1b138",
   "metadata": {},
   "outputs": [
    {
     "name": "stdout",
     "output_type": "stream",
     "text": [
      "[ 1.27307965e-05 -2.36196930e-05  9.73259274e-06  3.27032402e-05\n",
      "  1.54195962e-05 -2.46723781e-05 -6.37056346e-05] 0.51\n"
     ]
    }
   ],
   "source": [
    "print(lrclf.coef_, '%.2f' % lrclf.intercept_)"
   ]
  },
  {
   "cell_type": "code",
   "execution_count": 19,
   "id": "09a68c14-dd8d-4dd9-b7ba-60dd76a7f5b8",
   "metadata": {},
   "outputs": [
    {
     "name": "stdout",
     "output_type": "stream",
     "text": [
      "0.11 -0.05\n"
     ]
    }
   ],
   "source": [
    "rmse = np.sqrt(mean_squared_error(ytest, pred))\n",
    "r2 = r2_score(ytest, pred)\n",
    "print('%.2f' % rmse, '%.2f' % r2)"
   ]
  },
  {
   "cell_type": "code",
   "execution_count": 22,
   "id": "817cdc13-2211-4561-bf9f-967d9849c402",
   "metadata": {},
   "outputs": [
    {
     "data": {
      "text/plain": [
       "[<matplotlib.lines.Line2D at 0x7f7aae712290>,\n",
       " <matplotlib.lines.Line2D at 0x7f7ab0776210>,\n",
       " <matplotlib.lines.Line2D at 0x7f7aae712590>,\n",
       " <matplotlib.lines.Line2D at 0x7f7aae712690>,\n",
       " <matplotlib.lines.Line2D at 0x7f7aae712790>,\n",
       " <matplotlib.lines.Line2D at 0x7f7aae712750>,\n",
       " <matplotlib.lines.Line2D at 0x7f7aae7129d0>]"
      ]
     },
     "execution_count": 22,
     "metadata": {},
     "output_type": "execute_result"
    },
    {
     "data": {
      "image/png": "[encoded data removed]",
      "text/plain": [
       "<Figure size 432x288 with 1 Axes>"
      ]
     },
     "metadata": {
      "needs_background": "light"
     },
     "output_type": "display_data"
    }
   ],
   "source": [
    "plt.plot(data, target, 'ro')"
   ]
  },
  {
   "cell_type": "code",
   "execution_count": 27,
   "id": "bcefc7af-a820-48a3-8104-77ef577f836b",
   "metadata": {},
   "outputs": [
    {
     "data": {
      "text/plain": [
       "LinearRegression()"
      ]
     },
     "execution_count": 27,
     "metadata": {},
     "output_type": "execute_result"
    }
   ],
   "source": [
    "lrclf = LinearRegression()\n",
    "lrclf.fit(data,target)"
   ]
  },
  {
   "cell_type": "code",
   "execution_count": 28,
   "id": "6b61e296-c007-4afe-a177-a953b4380bdd",
   "metadata": {},
   "outputs": [
    {
     "data": {
      "text/plain": [
       "(array([ 1.34670641e-05, -2.80842900e-05,  3.59167828e-05,  5.32050161e-06,\n",
       "         6.95884468e-05, -1.11316486e-04,  1.54445137e-05]),\n",
       " 0.39908242491923007)"
      ]
     },
     "execution_count": 28,
     "metadata": {},
     "output_type": "execute_result"
    }
   ],
   "source": [
    "lrclf.coef_, lrclf.intercept_"
   ]
  },
  {
   "cell_type": "code",
   "execution_count": 23,
   "id": "87c1458e-25ac-4714-8ce6-563b0b925c46",
   "metadata": {},
   "outputs": [
    {
     "data": {
      "text/html": [
       "<div>\n",
       "<style scoped>\n",
       "    .dataframe tbody tr th:only-of-type {\n",
       "        vertical-align: middle;\n",
       "    }\n",
       "\n",
       "    .dataframe tbody tr th {\n",
       "        vertical-align: top;\n",
       "    }\n",
       "\n",
       "    .dataframe thead th {\n",
       "        text-align: right;\n",
       "    }\n",
       "</style>\n",
       "<table border=\"1\" class=\"dataframe\">\n",
       "  <thead>\n",
       "    <tr style=\"text-align: right;\">\n",
       "      <th></th>\n",
       "      <th>20</th>\n",
       "      <th>30</th>\n",
       "      <th>40</th>\n",
       "      <th>50</th>\n",
       "      <th>60</th>\n",
       "      <th>70</th>\n",
       "      <th>80</th>\n",
       "      <th>re</th>\n",
       "    </tr>\n",
       "  </thead>\n",
       "  <tbody>\n",
       "    <tr>\n",
       "      <th>20</th>\n",
       "      <td>1.000000</td>\n",
       "      <td>0.802511</td>\n",
       "      <td>0.648035</td>\n",
       "      <td>0.445395</td>\n",
       "      <td>0.278410</td>\n",
       "      <td>0.294008</td>\n",
       "      <td>0.237325</td>\n",
       "      <td>0.409437</td>\n",
       "    </tr>\n",
       "    <tr>\n",
       "      <th>30</th>\n",
       "      <td>0.802511</td>\n",
       "      <td>1.000000</td>\n",
       "      <td>0.932576</td>\n",
       "      <td>0.601729</td>\n",
       "      <td>0.416757</td>\n",
       "      <td>0.335783</td>\n",
       "      <td>0.256946</td>\n",
       "      <td>0.196095</td>\n",
       "    </tr>\n",
       "    <tr>\n",
       "      <th>40</th>\n",
       "      <td>0.648035</td>\n",
       "      <td>0.932576</td>\n",
       "      <td>1.000000</td>\n",
       "      <td>0.768651</td>\n",
       "      <td>0.641457</td>\n",
       "      <td>0.564203</td>\n",
       "      <td>0.471858</td>\n",
       "      <td>0.179621</td>\n",
       "    </tr>\n",
       "    <tr>\n",
       "      <th>50</th>\n",
       "      <td>0.445395</td>\n",
       "      <td>0.601729</td>\n",
       "      <td>0.768651</td>\n",
       "      <td>1.000000</td>\n",
       "      <td>0.937601</td>\n",
       "      <td>0.823568</td>\n",
       "      <td>0.676529</td>\n",
       "      <td>0.387705</td>\n",
       "    </tr>\n",
       "    <tr>\n",
       "      <th>60</th>\n",
       "      <td>0.278410</td>\n",
       "      <td>0.416757</td>\n",
       "      <td>0.641457</td>\n",
       "      <td>0.937601</td>\n",
       "      <td>1.000000</td>\n",
       "      <td>0.939241</td>\n",
       "      <td>0.838870</td>\n",
       "      <td>0.309401</td>\n",
       "    </tr>\n",
       "    <tr>\n",
       "      <th>70</th>\n",
       "      <td>0.294008</td>\n",
       "      <td>0.335783</td>\n",
       "      <td>0.564203</td>\n",
       "      <td>0.823568</td>\n",
       "      <td>0.939241</td>\n",
       "      <td>1.000000</td>\n",
       "      <td>0.953613</td>\n",
       "      <td>0.214120</td>\n",
       "    </tr>\n",
       "    <tr>\n",
       "      <th>80</th>\n",
       "      <td>0.237325</td>\n",
       "      <td>0.256946</td>\n",
       "      <td>0.471858</td>\n",
       "      <td>0.676529</td>\n",
       "      <td>0.838870</td>\n",
       "      <td>0.953613</td>\n",
       "      <td>1.000000</td>\n",
       "      <td>0.116663</td>\n",
       "    </tr>\n",
       "    <tr>\n",
       "      <th>re</th>\n",
       "      <td>0.409437</td>\n",
       "      <td>0.196095</td>\n",
       "      <td>0.179621</td>\n",
       "      <td>0.387705</td>\n",
       "      <td>0.309401</td>\n",
       "      <td>0.214120</td>\n",
       "      <td>0.116663</td>\n",
       "      <td>1.000000</td>\n",
       "    </tr>\n",
       "  </tbody>\n",
       "</table>\n",
       "</div>"
      ],
      "text/plain": [
       "          20        30        40        50        60        70        80  \\\n",
       "20  1.000000  0.802511  0.648035  0.445395  0.278410  0.294008  0.237325   \n",
       "30  0.802511  1.000000  0.932576  0.601729  0.416757  0.335783  0.256946   \n",
       "40  0.648035  0.932576  1.000000  0.768651  0.641457  0.564203  0.471858   \n",
       "50  0.445395  0.601729  0.768651  1.000000  0.937601  0.823568  0.676529   \n",
       "60  0.278410  0.416757  0.641457  0.937601  1.000000  0.939241  0.838870   \n",
       "70  0.294008  0.335783  0.564203  0.823568  0.939241  1.000000  0.953613   \n",
       "80  0.237325  0.256946  0.471858  0.676529  0.838870  0.953613  1.000000   \n",
       "re  0.409437  0.196095  0.179621  0.387705  0.309401  0.214120  0.116663   \n",
       "\n",
       "          re  \n",
       "20  0.409437  \n",
       "30  0.196095  \n",
       "40  0.179621  \n",
       "50  0.387705  \n",
       "60  0.309401  \n",
       "70  0.214120  \n",
       "80  0.116663  \n",
       "re  1.000000  "
      ]
     },
     "execution_count": 23,
     "metadata": {},
     "output_type": "execute_result"
    }
   ],
   "source": [
    "age.corr()"
   ]
  },
  {
   "cell_type": "code",
   "execution_count": 25,
   "id": "86f7e41f-87a7-41b3-822b-d9864a946a63",
   "metadata": {},
   "outputs": [],
   "source": [
    "import seaborn as sns"
   ]
  },
  {
   "cell_type": "code",
   "execution_count": 26,
   "id": "9f20d849-cdc4-4e1c-a1bc-5382c2796252",
   "metadata": {},
   "outputs": [
    {
     "data": {
      "text/plain": [
       "<AxesSubplot:>"
      ]
     },
     "execution_count": 26,
     "metadata": {},
     "output_type": "execute_result"
    },
    {
     "data": {
      "image/png": "[encoded data removed]",
      "text/plain": [
       "<Figure size 1080x1080 with 2 Axes>"
      ]
     },
     "metadata": {
      "needs_background": "light"
     },
     "output_type": "display_data"
    }
   ],
   "source": [
    "plt.figure(figsize=(15,15))\n",
    "sns.heatmap(data = age.corr(), annot=True, \n",
    "fmt = '.2f', linewidths=.5, cmap='Blues')"
   ]
  },
  {
   "cell_type": "code",
   "execution_count": 77,
   "id": "84ea768b-8177-4e3e-a558-5ec80426306f",
   "metadata": {},
   "outputs": [],
   "source": [
    "data1 = age.iloc[:, 0]\n",
    "target1 = age.iloc[:, 7]\n",
    "data1 =  np.array(data1).reshape(-1,1)"
   ]
  },
  {
   "cell_type": "code",
   "execution_count": 43,
   "id": "0bf288e7-77f8-4f2b-8a24-7014aa8b2ab7",
   "metadata": {},
   "outputs": [
    {
     "data": {
      "text/plain": [
       "[<matplotlib.lines.Line2D at 0x7f7aad985d50>]"
      ]
     },
     "execution_count": 43,
     "metadata": {},
     "output_type": "execute_result"
    },
    {
     "data": {
      "image/png": "[encoded data removed]",
      "text/plain": [
       "<Figure size 432x288 with 1 Axes>"
      ]
     },
     "metadata": {
      "needs_background": "light"
     },
     "output_type": "display_data"
    }
   ],
   "source": [
    "plt.plot(data1, target1, 'ro')"
   ]
  },
  {
   "cell_type": "code",
   "execution_count": 44,
   "id": "c9b66da7-2f0c-46d1-91d2-38f654920f5c",
   "metadata": {},
   "outputs": [
    {
     "data": {
      "text/plain": [
       "LinearRegression()"
      ]
     },
     "execution_count": 44,
     "metadata": {},
     "output_type": "execute_result"
    }
   ],
   "source": [
    "lrclf = LinearRegression()\n",
    "lrclf.fit(data1,target1)"
   ]
  },
  {
   "cell_type": "code",
   "execution_count": 45,
   "id": "ae45635f-efb1-41f3-a1fe-ad1b336fa9cb",
   "metadata": {},
   "outputs": [
    {
     "data": {
      "text/plain": [
       "(array([4.12871274e-06]), 0.46789943077138785)"
      ]
     },
     "execution_count": 45,
     "metadata": {},
     "output_type": "execute_result"
    }
   ],
   "source": [
    "lrclf.coef_, lrclf.intercept_"
   ]
  },
  {
   "cell_type": "code",
   "execution_count": 47,
   "id": "9abb4c26-9853-4559-8080-19dbea8c97a7",
   "metadata": {},
   "outputs": [],
   "source": [
    "z = lrclf.predict(data1)"
   ]
  },
  {
   "cell_type": "code",
   "execution_count": 70,
   "id": "37032264-fcdd-4297-95fc-91983d493d7f",
   "metadata": {},
   "outputs": [
    {
     "data": {
      "text/plain": [
       "[<matplotlib.lines.Line2D at 0x7f7aad2ea810>]"
      ]
     },
     "execution_count": 70,
     "metadata": {},
     "output_type": "execute_result"
    },
    {
     "data": {
      "image/png": "[encoded data removed]",
      "text/plain": [
       "<Figure size 432x288 with 1 Axes>"
      ]
     },
     "metadata": {
      "needs_background": "light"
     },
     "output_type": "display_data"
    }
   ],
   "source": [
    "plt.plot(data1, target1, 'ro')\n",
    "plt.plot(data1, z, 'b--')"
   ]
  },
  {
   "cell_type": "code",
   "execution_count": 50,
   "id": "90ee853b-03d6-4bf2-a8af-feee8a2610b0",
   "metadata": {},
   "outputs": [
    {
     "name": "stdout",
     "output_type": "stream",
     "text": [
      "0.08742210664277639 0.17\n"
     ]
    }
   ],
   "source": [
    "rmse = np.sqrt(mean_squared_error(target, z))\n",
    "r2 = r2_score(target, z)\n",
    "print(rmse, '%.2f' % r2)"
   ]
  },
  {
   "cell_type": "code",
   "execution_count": 52,
   "id": "91369954-f846-4a59-a0da-eea4f310feb1",
   "metadata": {},
   "outputs": [],
   "source": [
    "from sklearn.preprocessing import PolynomialFeatures"
   ]
  },
  {
   "cell_type": "code",
   "execution_count": 53,
   "id": "36f26272-ead0-4bf4-9ee1-cf4b4de44189",
   "metadata": {},
   "outputs": [],
   "source": [
    "pf = PolynomialFeatures(degree=2, include_bias=False)"
   ]
  },
  {
   "cell_type": "code",
   "execution_count": 54,
   "id": "342a12ba-de0d-42f3-a134-efdc7ac52733",
   "metadata": {},
   "outputs": [],
   "source": [
    "X_poly = pf.fit_transform(data1)"
   ]
  },
  {
   "cell_type": "code",
   "execution_count": 56,
   "id": "cd09aa6e-a498-47f1-a6f4-afabab88e86f",
   "metadata": {},
   "outputs": [
    {
     "data": {
      "text/plain": [
       "LinearRegression()"
      ]
     },
     "execution_count": 56,
     "metadata": {},
     "output_type": "execute_result"
    }
   ],
   "source": [
    "plr = LinearRegression()\n",
    "plr.fit(X_poly, target)"
   ]
  },
  {
   "cell_type": "code",
   "execution_count": 64,
   "id": "32d5c0a7-8f73-4522-94d0-e2894a0e4117",
   "metadata": {},
   "outputs": [
    {
     "data": {
      "text/plain": [
       "(array([ 0.00001, -0.     ]), 0.4429883718330571)"
      ]
     },
     "execution_count": 64,
     "metadata": {},
     "output_type": "execute_result"
    }
   ],
   "source": [
    "np.set_printoptions(precision = 5, suppress=True)\n",
    "plr.coef_, plr.intercept_"
   ]
  },
  {
   "cell_type": "code",
   "execution_count": 65,
   "id": "1ae72874-9245-41c1-9abe-ad9388eed8f1",
   "metadata": {},
   "outputs": [],
   "source": [
    "z = plr.predict(X_poly)"
   ]
  },
  {
   "cell_type": "code",
   "execution_count": 66,
   "id": "e8a827e6-9817-4aac-806a-faaea9137190",
   "metadata": {},
   "outputs": [
    {
     "data": {
      "text/plain": [
       "[<matplotlib.lines.Line2D at 0x7f7aad36dd10>]"
      ]
     },
     "execution_count": 66,
     "metadata": {},
     "output_type": "execute_result"
    },
    {
     "data": {
      "image/png": "[encoded data removed]",
      "text/plain": [
       "<Figure size 432x288 with 1 Axes>"
      ]
     },
     "metadata": {
      "needs_background": "light"
     },
     "output_type": "display_data"
    }
   ],
   "source": [
    "plt.plot(data1, target, 'ro')\n",
    "plt.plot(data1, z, 'b--')"
   ]
  },
  {
   "cell_type": "code",
   "execution_count": 67,
   "id": "70d6ca4a-19dd-4018-8f33-15728fffc0c4",
   "metadata": {},
   "outputs": [
    {
     "data": {
      "text/plain": [
       "array([[    7442., 55383364.],\n",
       "       [    5482., 30052324.],\n",
       "       [    8309., 69039481.]])"
      ]
     },
     "execution_count": 67,
     "metadata": {},
     "output_type": "execute_result"
    }
   ],
   "source": [
    "X_poly[:3]"
   ]
  },
  {
   "cell_type": "code",
   "execution_count": 72,
   "id": "3ef5001d-2dd0-48bb-90d9-e449bf1f6b46",
   "metadata": {},
   "outputs": [],
   "source": [
    "import numpy as np"
   ]
  },
  {
   "cell_type": "code",
   "execution_count": 83,
   "id": "a86b96dc-386b-4362-9861-13ce9ad99bd7",
   "metadata": {},
   "outputs": [],
   "source": [
    "data1 = age.iloc[:, 0]\n",
    "target1 = age.iloc[:, 7]"
   ]
  },
  {
   "cell_type": "code",
   "execution_count": 84,
   "id": "ee082893-5261-4da8-ad90-201153058d40",
   "metadata": {},
   "outputs": [],
   "source": [
    "Modelpoly = np.poly1d(np.polyfit(data1, target, 3))"
   ]
  },
  {
   "cell_type": "code",
   "execution_count": 85,
   "id": "906f4a9e-dc28-43e3-b094-5c928542ee68",
   "metadata": {},
   "outputs": [],
   "source": [
    "Linepoly = np.linspace(1, 55000, 1)"
   ]
  },
  {
   "cell_type": "code",
   "execution_count": 86,
   "id": "b0ffbaa1-4d9b-4304-97b7-f369d00af69f",
   "metadata": {},
   "outputs": [
    {
     "data": {
      "image/png": "[encoded data removed]",
      "text/plain": [
       "<Figure size 432x288 with 1 Axes>"
      ]
     },
     "metadata": {
      "needs_background": "light"
     },
     "output_type": "display_data"
    }
   ],
   "source": [
    "plt.scatter(data1, target1)\n",
    "plt.plot(Linepoly, Modelpoly(Linepoly))\n",
    "plt.show()"
   ]
  },
  {
   "cell_type": "code",
   "execution_count": 87,
   "id": "327e9228-89a8-4250-a29e-6275720d6937",
   "metadata": {},
   "outputs": [
    {
     "data": {
      "text/plain": [
       "count    25.000000\n",
       "mean      0.527767\n",
       "std       0.097798\n",
       "min       0.322735\n",
       "25%       0.458910\n",
       "50%       0.529902\n",
       "75%       0.604371\n",
       "max       0.662907\n",
       "Name: re, dtype: float64"
      ]
     },
     "execution_count": 87,
     "metadata": {},
     "output_type": "execute_result"
    }
   ],
   "source": [
    "target1.describe()"
   ]
  },
  {
   "cell_type": "code",
   "execution_count": 88,
   "id": "4cdc36c1-0dba-48fc-bc3e-4848251f0123",
   "metadata": {},
   "outputs": [
    {
     "data": {
      "text/plain": [
       "0     0.508578\n",
       "1     0.418840\n",
       "2     0.545222\n",
       "3     0.598687\n",
       "4     0.662907\n",
       "5     0.645729\n",
       "6     0.633947\n",
       "7     0.653512\n",
       "8     0.572635\n",
       "9     0.529902\n",
       "10    0.428497\n",
       "11    0.511360\n",
       "12    0.449735\n",
       "13    0.458910\n",
       "14    0.465741\n",
       "15    0.651184\n",
       "16    0.322735\n",
       "17    0.604371\n",
       "18    0.423826\n",
       "19    0.593076\n",
       "20    0.646185\n",
       "21    0.357255\n",
       "22    0.480769\n",
       "23    0.483100\n",
       "24    0.547469\n",
       "Name: re, dtype: float64"
      ]
     },
     "execution_count": 88,
     "metadata": {},
     "output_type": "execute_result"
    }
   ],
   "source": []
  },
  {
   "cell_type": "code",
   "execution_count": null,
   "id": "27cb08fc-044a-48f4-b9b8-732379206bf6",
   "metadata": {},
   "outputs": [],
   "source": []
  },
  {
   "cell_type": "code",
   "execution_count": null,
   "id": "6a0cae78-b889-42d9-a038-3940c17dfc41",
   "metadata": {},
   "outputs": [],
   "source": []
  },
  {
   "cell_type": "code",
   "execution_count": null,
   "id": "bb9b2277-1409-4f05-b065-4e0aa50dbfb7",
   "metadata": {},
   "outputs": [],
   "source": []
  }
 ],
 "metadata": {
  "kernelspec": {
   "display_name": "Python 3 (ipykernel)",
   "language": "python",
   "name": "python3"
  },
  "language_info": {
   "codemirror_mode": {
    "name": "ipython",
    "version": 3
   },
   "file_extension": ".py",
   "mimetype": "text/x-python",
   "name": "python",
   "nbconvert_exporter": "python",
   "pygments_lexer": "ipython3",
   "version": "3.9.7"
  }
 },
 "nbformat": 4,
 "nbformat_minor": 5
}
