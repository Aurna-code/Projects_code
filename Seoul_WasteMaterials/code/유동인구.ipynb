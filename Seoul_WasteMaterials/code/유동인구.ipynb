{
 "cells": [
  {
   "cell_type": "code",
   "execution_count": 64,
   "id": "3d182291-ac34-4ecd-88e2-66095ad8d653",
   "metadata": {},
   "outputs": [],
   "source": [
    "import pandas as pd\n",
    "import numpy as np\n",
    "import matplotlib.pyplot as plt"
   ]
  },
  {
   "cell_type": "code",
   "execution_count": 65,
   "id": "2d97f64a-73c1-4bf3-85b8-27bd15087fce",
   "metadata": {},
   "outputs": [],
   "source": [
    "sta = pd.read_csv('data/card.csv', encoding= 'euc-kr')"
   ]
  },
  {
   "cell_type": "code",
   "execution_count": 66,
   "id": "651967c3-72d8-49b9-848b-9617427500d2",
   "metadata": {},
   "outputs": [
    {
     "data": {
      "text/html": [
       "<div>\n",
       "<style scoped>\n",
       "    .dataframe tbody tr th:only-of-type {\n",
       "        vertical-align: middle;\n",
       "    }\n",
       "\n",
       "    .dataframe tbody tr th {\n",
       "        vertical-align: top;\n",
       "    }\n",
       "\n",
       "    .dataframe thead th {\n",
       "        text-align: right;\n",
       "    }\n",
       "</style>\n",
       "<table border=\"1\" class=\"dataframe\">\n",
       "  <thead>\n",
       "    <tr style=\"text-align: right;\">\n",
       "      <th></th>\n",
       "      <th>사용일자</th>\n",
       "      <th>노선명</th>\n",
       "      <th>역명</th>\n",
       "      <th>승차총승객수</th>\n",
       "      <th>하차총승객수</th>\n",
       "      <th>등록일자</th>\n",
       "    </tr>\n",
       "  </thead>\n",
       "  <tbody>\n",
       "    <tr>\n",
       "      <th>0</th>\n",
       "      <td>20191001</td>\n",
       "      <td>9호선</td>\n",
       "      <td>동작</td>\n",
       "      <td>2233</td>\n",
       "      <td>1838</td>\n",
       "      <td>20191004</td>\n",
       "    </tr>\n",
       "    <tr>\n",
       "      <th>1</th>\n",
       "      <td>20191001</td>\n",
       "      <td>우이신설선</td>\n",
       "      <td>신설동</td>\n",
       "      <td>2471</td>\n",
       "      <td>2524</td>\n",
       "      <td>20191004</td>\n",
       "    </tr>\n",
       "    <tr>\n",
       "      <th>2</th>\n",
       "      <td>20191001</td>\n",
       "      <td>우이신설선</td>\n",
       "      <td>보문</td>\n",
       "      <td>1814</td>\n",
       "      <td>1848</td>\n",
       "      <td>20191004</td>\n",
       "    </tr>\n",
       "    <tr>\n",
       "      <th>3</th>\n",
       "      <td>20191001</td>\n",
       "      <td>우이신설선</td>\n",
       "      <td>성신여대입구</td>\n",
       "      <td>4063</td>\n",
       "      <td>4502</td>\n",
       "      <td>20191004</td>\n",
       "    </tr>\n",
       "    <tr>\n",
       "      <th>4</th>\n",
       "      <td>20191001</td>\n",
       "      <td>우이신설선</td>\n",
       "      <td>정릉</td>\n",
       "      <td>5195</td>\n",
       "      <td>4718</td>\n",
       "      <td>20191004</td>\n",
       "    </tr>\n",
       "    <tr>\n",
       "      <th>...</th>\n",
       "      <td>...</td>\n",
       "      <td>...</td>\n",
       "      <td>...</td>\n",
       "      <td>...</td>\n",
       "      <td>...</td>\n",
       "      <td>...</td>\n",
       "    </tr>\n",
       "    <tr>\n",
       "      <th>18315</th>\n",
       "      <td>20191031</td>\n",
       "      <td>공항철도 1호선</td>\n",
       "      <td>운서</td>\n",
       "      <td>8098</td>\n",
       "      <td>8278</td>\n",
       "      <td>20191103</td>\n",
       "    </tr>\n",
       "    <tr>\n",
       "      <th>18316</th>\n",
       "      <td>20191031</td>\n",
       "      <td>공항철도 1호선</td>\n",
       "      <td>공항화물청사</td>\n",
       "      <td>2804</td>\n",
       "      <td>3153</td>\n",
       "      <td>20191103</td>\n",
       "    </tr>\n",
       "    <tr>\n",
       "      <th>18317</th>\n",
       "      <td>20191031</td>\n",
       "      <td>공항철도 1호선</td>\n",
       "      <td>인천공항1터미널</td>\n",
       "      <td>16879</td>\n",
       "      <td>16625</td>\n",
       "      <td>20191103</td>\n",
       "    </tr>\n",
       "    <tr>\n",
       "      <th>18318</th>\n",
       "      <td>20191031</td>\n",
       "      <td>9호선2~3단계</td>\n",
       "      <td>언주</td>\n",
       "      <td>10780</td>\n",
       "      <td>10980</td>\n",
       "      <td>20191103</td>\n",
       "    </tr>\n",
       "    <tr>\n",
       "      <th>18319</th>\n",
       "      <td>20191031</td>\n",
       "      <td>우이신설선</td>\n",
       "      <td>신설동</td>\n",
       "      <td>2524</td>\n",
       "      <td>2536</td>\n",
       "      <td>20191103</td>\n",
       "    </tr>\n",
       "  </tbody>\n",
       "</table>\n",
       "<p>18320 rows × 6 columns</p>\n",
       "</div>"
      ],
      "text/plain": [
       "           사용일자       노선명        역명  승차총승객수  하차총승객수      등록일자\n",
       "0      20191001       9호선        동작    2233    1838  20191004\n",
       "1      20191001     우이신설선       신설동    2471    2524  20191004\n",
       "2      20191001     우이신설선        보문    1814    1848  20191004\n",
       "3      20191001     우이신설선    성신여대입구    4063    4502  20191004\n",
       "4      20191001     우이신설선        정릉    5195    4718  20191004\n",
       "...         ...       ...       ...     ...     ...       ...\n",
       "18315  20191031  공항철도 1호선        운서    8098    8278  20191103\n",
       "18316  20191031  공항철도 1호선    공항화물청사    2804    3153  20191103\n",
       "18317  20191031  공항철도 1호선  인천공항1터미널   16879   16625  20191103\n",
       "18318  20191031  9호선2~3단계        언주   10780   10980  20191103\n",
       "18319  20191031     우이신설선       신설동    2524    2536  20191103\n",
       "\n",
       "[18320 rows x 6 columns]"
      ]
     },
     "execution_count": 66,
     "metadata": {},
     "output_type": "execute_result"
    }
   ],
   "source": [
    "sta"
   ]
  },
  {
   "cell_type": "code",
   "execution_count": 4,
   "id": "a84059ae-ac51-4432-ba20-998d5e9bcd13",
   "metadata": {},
   "outputs": [],
   "source": [
    "plt.rc('font', family='NanumGothic')\n",
    "plt.rcParams['font.family'] = 'NanumGothic'\n",
    "plt.rcParams['axes.unicode_minus']=False"
   ]
  },
  {
   "cell_type": "code",
   "execution_count": 62,
   "id": "07cc3cdf-1c07-4f6d-9e75-2f4a9ce61bc1",
   "metadata": {},
   "outputs": [],
   "source": [
    "sta1 = round((sum(sta[sta['역명'].isin(['용산', '서빙고', '한남', '남영', '서울', '숙대입구', '삼각지', '신용산', '이촌', '효창공원앞', '삼각지', '녹사평', '이태원', '한강진'\n",
    "])].iloc[:,4]))/31,0)"
   ]
  },
  {
   "cell_type": "code",
   "execution_count": 63,
   "id": "04af0a45-1a92-474e-ae0a-25b3d3837f8b",
   "metadata": {},
   "outputs": [
    {
     "data": {
      "text/plain": [
       "174620.0"
      ]
     },
     "execution_count": 63,
     "metadata": {},
     "output_type": "execute_result"
    }
   ],
   "source": [
    "sta1"
   ]
  },
  {
   "cell_type": "code",
   "execution_count": null,
   "id": "6a362acb-1b0d-4f60-a7da-0a7f07892344",
   "metadata": {},
   "outputs": [],
   "source": []
  }
 ],
 "metadata": {
  "kernelspec": {
   "display_name": "Python 3 (ipykernel)",
   "language": "python",
   "name": "python3"
  },
  "language_info": {
   "codemirror_mode": {
    "name": "ipython",
    "version": 3
   },
   "file_extension": ".py",
   "mimetype": "text/x-python",
   "name": "python",
   "nbconvert_exporter": "python",
   "pygments_lexer": "ipython3",
   "version": "3.9.7"
  }
 },
 "nbformat": 4,
 "nbformat_minor": 5
}
